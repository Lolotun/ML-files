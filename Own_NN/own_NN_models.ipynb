{
  "cells": [
    {
      "cell_type": "code",
      "execution_count": 1,
      "id": "8cc148dc-d83d-4c32-bbb0-3ffd82ba4e98",
      "metadata": {
        "id": "8cc148dc-d83d-4c32-bbb0-3ffd82ba4e98"
      },
      "outputs": [],
      "source": [
        "import numpy as np\n",
        "import pandas as pd\n",
        "import matplotlib.pyplot as plt\n",
        "\n",
        "from sklearn.linear_model import LinearRegression\n",
        "from sklearn.model_selection import train_test_split\n",
        "from sklearn.metrics import r2_score, mean_squared_error\n",
        "from sklearn.preprocessing import MinMaxScaler\n",
        "\n",
        "%matplotlib inline"
      ]
    },
    {
      "cell_type": "code",
      "execution_count": null,
      "id": "mr6BTx7wgkw2",
      "metadata": {
        "id": "mr6BTx7wgkw2"
      },
      "outputs": [],
      "source": [
        "from google.colab import drive\n",
        "drive.mount('/content/drive')"
      ]
    },
    {
      "cell_type": "markdown",
      "id": "e3a06e1e-3bc0-4667-84f3-7e86698c3737",
      "metadata": {
        "id": "e3a06e1e-3bc0-4667-84f3-7e86698c3737"
      },
      "source": [
        "# Загружаем выборку Diamonds"
      ]
    },
    {
      "cell_type": "markdown",
      "id": "c731a143-3dc9-43e7-96f5-b1eff9093345",
      "metadata": {
        "id": "c731a143-3dc9-43e7-96f5-b1eff9093345"
      },
      "source": [
        "1. PRICE: price in US dollars (326-18,823)\n",
        "2. CARAT: weight of the diamond (0.2--5.01)\n",
        "3. CUT: quality of the cut (Fair, Good, Very Good, Premium, Ideal)\n",
        "4. COLOR: diamond colour, from J (worst) to D (best)\n",
        "5. CLARITY: a measurement of how clear the diamond is (I1 (worst), SI2, SI1, VS2, VS1, VVS2, VVS1, IF (best))\n",
        "6. X: length in mm (0--10.74)\n",
        "7. Y: width in mm (0--58.9)\n",
        "8. Z: depth in mm (0--31.8)\n",
        "9. DEPTH: total depth percentage = z / mean(x, y) = 2 * z / (x + y) (43--79)\n",
        "10. TABLE: width of top of diamond relative to widest point (43--95)"
      ]
    },
    {
      "cell_type": "code",
      "execution_count": null,
      "id": "UTI1OYha9zmc",
      "metadata": {
        "colab": {
          "base_uri": "https://localhost:8080/"
        },
        "id": "UTI1OYha9zmc",
        "outputId": "197c8bd7-40d2-497a-8aa5-e787c7f12229"
      },
      "outputs": [
        {
          "name": "stdout",
          "output_type": "stream",
          "text": [
            "Mounted at /content/gdrive\n"
          ]
        }
      ],
      "source": [
        "from google.colab import drive\n",
        "drive.mount(\"/content/gdrive\", force_remount=True)\n",
        "data_path = \"/content/gdrive/MyDrive/ML/second/lecture1_hw.ipynb\""
      ]
    },
    {
      "cell_type": "code",
      "execution_count": null,
      "id": "oC-0Ss9f7fI2",
      "metadata": {
        "colab": {
          "base_uri": "https://localhost:8080/"
        },
        "id": "oC-0Ss9f7fI2",
        "outputId": "b641cbe9-6164-4c4f-c470-5ba37ab0791b"
      },
      "outputs": [
        {
          "name": "stdout",
          "output_type": "stream",
          "text": [
            "   Unnamed: 0  carat      cut color clarity  depth  table  price     x     y  \\\n",
            "0           1   0.23    Ideal     E     SI2   61.5   55.0    326  3.95  3.98   \n",
            "1           2   0.21  Premium     E     SI1   59.8   61.0    326  3.89  3.84   \n",
            "2           3   0.23     Good     E     VS1   56.9   65.0    327  4.05  4.07   \n",
            "3           4   0.29  Premium     I     VS2   62.4   58.0    334  4.20  4.23   \n",
            "4           5   0.31     Good     J     SI2   63.3   58.0    335  4.34  4.35   \n",
            "\n",
            "      z  \n",
            "0  2.43  \n",
            "1  2.31  \n",
            "2  2.31  \n",
            "3  2.63  \n",
            "4  2.75  \n",
            "ls: cannot access '/content/gdrive/My Drive/Colab Notebooks/name': No such file or directory\n"
          ]
        }
      ],
      "source": [
        "\n",
        "data_path = \"/content/gdrive/MyDrive/ML/second/diamonds.csv\"\n",
        "train_df = pd.read_csv(data_path)\n",
        "print(train_df.head())\n",
        "# команды для bash пишутся с !\n",
        "!ls /content/gdrive/My\\ Drive/Colab\\ Notebooks/name"
      ]
    },
    {
      "cell_type": "code",
      "execution_count": null,
      "id": "o1NyInS47_3z",
      "metadata": {
        "colab": {
          "base_uri": "https://localhost:8080/"
        },
        "id": "o1NyInS47_3z",
        "outputId": "6d485d31-624d-4636-beb8-92b4d9c6bc21"
      },
      "outputs": [
        {
          "name": "stdout",
          "output_type": "stream",
          "text": [
            "ls: cannot access '/content/gdrive/My Drive/Colab Notebooks/name': No such file or directory\n"
          ]
        }
      ],
      "source": [
        "!ls /content/gdrive/My\\ Drive/Colab\\ Notebooks/name"
      ]
    },
    {
      "cell_type": "code",
      "execution_count": 2,
      "id": "084c319a",
      "metadata": {},
      "outputs": [],
      "source": [
        "train_df = pd.read_csv('diamonds.csv')"
      ]
    },
    {
      "cell_type": "code",
      "execution_count": 4,
      "id": "0f24cf86-653a-422b-9df1-8029fdccf153",
      "metadata": {
        "id": "0f24cf86-653a-422b-9df1-8029fdccf153"
      },
      "outputs": [],
      "source": [
        "diamonds_df =train_df"
      ]
    },
    {
      "cell_type": "code",
      "execution_count": 5,
      "id": "70d9ccfe-e1cf-4c90-a5ab-40ae0852f1ce",
      "metadata": {
        "colab": {
          "base_uri": "https://localhost:8080/",
          "height": 207
        },
        "id": "70d9ccfe-e1cf-4c90-a5ab-40ae0852f1ce",
        "outputId": "4bb18022-821c-4a42-c1ee-2137e90a2163"
      },
      "outputs": [
        {
          "data": {
            "text/html": [
              "<div>\n",
              "<style scoped>\n",
              "    .dataframe tbody tr th:only-of-type {\n",
              "        vertical-align: middle;\n",
              "    }\n",
              "\n",
              "    .dataframe tbody tr th {\n",
              "        vertical-align: top;\n",
              "    }\n",
              "\n",
              "    .dataframe thead th {\n",
              "        text-align: right;\n",
              "    }\n",
              "</style>\n",
              "<table border=\"1\" class=\"dataframe\">\n",
              "  <thead>\n",
              "    <tr style=\"text-align: right;\">\n",
              "      <th></th>\n",
              "      <th>Unnamed: 0</th>\n",
              "      <th>carat</th>\n",
              "      <th>cut</th>\n",
              "      <th>color</th>\n",
              "      <th>clarity</th>\n",
              "      <th>depth</th>\n",
              "      <th>table</th>\n",
              "      <th>price</th>\n",
              "      <th>x</th>\n",
              "      <th>y</th>\n",
              "      <th>z</th>\n",
              "    </tr>\n",
              "  </thead>\n",
              "  <tbody>\n",
              "    <tr>\n",
              "      <th>0</th>\n",
              "      <td>1</td>\n",
              "      <td>0.23</td>\n",
              "      <td>Ideal</td>\n",
              "      <td>E</td>\n",
              "      <td>SI2</td>\n",
              "      <td>61.5</td>\n",
              "      <td>55.0</td>\n",
              "      <td>326</td>\n",
              "      <td>3.95</td>\n",
              "      <td>3.98</td>\n",
              "      <td>2.43</td>\n",
              "    </tr>\n",
              "    <tr>\n",
              "      <th>1</th>\n",
              "      <td>2</td>\n",
              "      <td>0.21</td>\n",
              "      <td>Premium</td>\n",
              "      <td>E</td>\n",
              "      <td>SI1</td>\n",
              "      <td>59.8</td>\n",
              "      <td>61.0</td>\n",
              "      <td>326</td>\n",
              "      <td>3.89</td>\n",
              "      <td>3.84</td>\n",
              "      <td>2.31</td>\n",
              "    </tr>\n",
              "    <tr>\n",
              "      <th>2</th>\n",
              "      <td>3</td>\n",
              "      <td>0.23</td>\n",
              "      <td>Good</td>\n",
              "      <td>E</td>\n",
              "      <td>VS1</td>\n",
              "      <td>56.9</td>\n",
              "      <td>65.0</td>\n",
              "      <td>327</td>\n",
              "      <td>4.05</td>\n",
              "      <td>4.07</td>\n",
              "      <td>2.31</td>\n",
              "    </tr>\n",
              "    <tr>\n",
              "      <th>3</th>\n",
              "      <td>4</td>\n",
              "      <td>0.29</td>\n",
              "      <td>Premium</td>\n",
              "      <td>I</td>\n",
              "      <td>VS2</td>\n",
              "      <td>62.4</td>\n",
              "      <td>58.0</td>\n",
              "      <td>334</td>\n",
              "      <td>4.20</td>\n",
              "      <td>4.23</td>\n",
              "      <td>2.63</td>\n",
              "    </tr>\n",
              "    <tr>\n",
              "      <th>4</th>\n",
              "      <td>5</td>\n",
              "      <td>0.31</td>\n",
              "      <td>Good</td>\n",
              "      <td>J</td>\n",
              "      <td>SI2</td>\n",
              "      <td>63.3</td>\n",
              "      <td>58.0</td>\n",
              "      <td>335</td>\n",
              "      <td>4.34</td>\n",
              "      <td>4.35</td>\n",
              "      <td>2.75</td>\n",
              "    </tr>\n",
              "  </tbody>\n",
              "</table>\n",
              "</div>"
            ],
            "text/plain": [
              "   Unnamed: 0  carat      cut color clarity  depth  table  price     x     y  \\\n",
              "0           1   0.23    Ideal     E     SI2   61.5   55.0    326  3.95  3.98   \n",
              "1           2   0.21  Premium     E     SI1   59.8   61.0    326  3.89  3.84   \n",
              "2           3   0.23     Good     E     VS1   56.9   65.0    327  4.05  4.07   \n",
              "3           4   0.29  Premium     I     VS2   62.4   58.0    334  4.20  4.23   \n",
              "4           5   0.31     Good     J     SI2   63.3   58.0    335  4.34  4.35   \n",
              "\n",
              "      z  \n",
              "0  2.43  \n",
              "1  2.31  \n",
              "2  2.31  \n",
              "3  2.63  \n",
              "4  2.75  "
            ]
          },
          "execution_count": 5,
          "metadata": {},
          "output_type": "execute_result"
        }
      ],
      "source": [
        "diamonds_df.head()"
      ]
    },
    {
      "cell_type": "code",
      "execution_count": 6,
      "id": "fad21c95-f542-44ec-8f06-8f57fd42ddef",
      "metadata": {
        "colab": {
          "base_uri": "https://localhost:8080/",
          "height": 430
        },
        "id": "fad21c95-f542-44ec-8f06-8f57fd42ddef",
        "outputId": "5213ea9a-0ad0-4702-95a9-738c0337a0d2"
      },
      "outputs": [
        {
          "data": {
            "image/png": "[encoded data removed]",
            "text/plain": [
              "<Figure size 640x480 with 1 Axes>"
            ]
          },
          "metadata": {},
          "output_type": "display_data"
        }
      ],
      "source": [
        "plt.hist(diamonds_df['price'], bins=100)\n",
        "plt.grid();"
      ]
    },
    {
      "cell_type": "markdown",
      "id": "17ac44bb-86c7-424a-8b9b-0a21bf490683",
      "metadata": {
        "id": "17ac44bb-86c7-424a-8b9b-0a21bf490683"
      },
      "source": [
        "# Подготовка данных"
      ]
    },
    {
      "cell_type": "code",
      "execution_count": 7,
      "id": "e19945ea-cecf-481e-a28b-3f9c11001918",
      "metadata": {
        "id": "e19945ea-cecf-481e-a28b-3f9c11001918"
      },
      "outputs": [],
      "source": [
        "features = ['carat', 'cut', 'color', 'clarity', 'depth', 'table', 'x', 'y', 'z']\n",
        "target = ['price']"
      ]
    },
    {
      "cell_type": "code",
      "execution_count": 8,
      "id": "fbc43eb0-e77f-4765-8b0e-b9052c093855",
      "metadata": {
        "id": "fbc43eb0-e77f-4765-8b0e-b9052c093855"
      },
      "outputs": [],
      "source": [
        "cut_transform = {'Fair': 0, 'Good': 1, 'Very Good': 2, 'Premium': 3, 'Ideal': 4}\n",
        "clarity_transform = {'I1': 0, 'SI2': 1, 'SI1': 2, 'VS2': 3, 'VS1': 4, 'VVS2': 5, 'VVS1': 6, 'IF': 7}\n",
        "color_transorm = {'D': 0, 'E': 1, 'F': 2, 'G': 3, 'H': 4, 'I': 5, 'J': 6}"
      ]
    },
    {
      "cell_type": "code",
      "execution_count": 9,
      "id": "6f82b34f-9ffc-478f-a103-b2cbbca49a94",
      "metadata": {
        "id": "6f82b34f-9ffc-478f-a103-b2cbbca49a94"
      },
      "outputs": [],
      "source": [
        "diamonds_df['cut'] = diamonds_df['cut'].apply(lambda x: cut_transform.get(x))\n",
        "diamonds_df['color'] = diamonds_df['color'].apply(lambda x: color_transorm.get(x))\n",
        "diamonds_df['clarity'] = diamonds_df['clarity'].apply(lambda x: clarity_transform.get(x))"
      ]
    },
    {
      "cell_type": "code",
      "execution_count": 10,
      "id": "8e5fa82b-92ed-4e79-adf2-422204b45e82",
      "metadata": {
        "id": "8e5fa82b-92ed-4e79-adf2-422204b45e82"
      },
      "outputs": [],
      "source": [
        "X = diamonds_df[features].copy().values\n",
        "y = diamonds_df[target].values"
      ]
    },
    {
      "cell_type": "code",
      "execution_count": 11,
      "id": "baafcd96-b32e-469e-b354-fa0aba09db8f",
      "metadata": {
        "id": "baafcd96-b32e-469e-b354-fa0aba09db8f"
      },
      "outputs": [],
      "source": [
        "scaler = MinMaxScaler()\n",
        "X = scaler.fit_transform(X)\n"
      ]
    },
    {
      "cell_type": "code",
      "execution_count": 12,
      "id": "64c11d68-dc5c-4753-9cc4-3cc4e136f3cb",
      "metadata": {
        "id": "64c11d68-dc5c-4753-9cc4-3cc4e136f3cb"
      },
      "outputs": [],
      "source": [
        "X_train, X_test, y_train, y_test = train_test_split(X, y, random_state=47, test_size=0.3)"
      ]
    },
    {
      "cell_type": "markdown",
      "id": "3b743ed1-d0cf-485d-b8f2-8c71fc174e8b",
      "metadata": {
        "id": "3b743ed1-d0cf-485d-b8f2-8c71fc174e8b"
      },
      "source": [
        "# Обучаем модель линейной регрессии"
      ]
    },
    {
      "cell_type": "code",
      "execution_count": 13,
      "id": "0068e36f-040e-4aa3-bb06-88aa95051478",
      "metadata": {
        "id": "0068e36f-040e-4aa3-bb06-88aa95051478"
      },
      "outputs": [],
      "source": [
        "reg = LinearRegression().fit(X_train, y_train)"
      ]
    },
    {
      "cell_type": "code",
      "execution_count": 14,
      "id": "f968e336-4049-41b2-81d1-4c24f0969bbb",
      "metadata": {
        "id": "f968e336-4049-41b2-81d1-4c24f0969bbb"
      },
      "outputs": [],
      "source": [
        "y_pred = reg.predict(X_test)"
      ]
    },
    {
      "cell_type": "code",
      "execution_count": 15,
      "id": "0952990a-b3d6-4da4-9cc6-1ab3a7a25ac7",
      "metadata": {
        "id": "0952990a-b3d6-4da4-9cc6-1ab3a7a25ac7"
      },
      "outputs": [],
      "source": [
        "score = r2_score(y_pred, y_test)\n",
        "mse = mean_squared_error(y_pred, y_test)"
      ]
    },
    {
      "cell_type": "code",
      "execution_count": 16,
      "id": "f89c3bbd-0a3a-48ac-b1ab-b75dc0c5bcce",
      "metadata": {
        "colab": {
          "base_uri": "https://localhost:8080/",
          "height": 452
        },
        "id": "f89c3bbd-0a3a-48ac-b1ab-b75dc0c5bcce",
        "outputId": "0350a910-1abb-4fe3-a9a0-32faae6c2635"
      },
      "outputs": [
        {
          "data": {
            "image/png": "[encoded data removed]",
            "text/plain": [
              "<Figure size 640x480 with 1 Axes>"
            ]
          },
          "metadata": {},
          "output_type": "display_data"
        }
      ],
      "source": [
        "plt.title(f'R2: {str(score)[:5]} MSE: {str(round(mse,4))}')\n",
        "plt.hist(y_pred.reshape(1, -1)[0], bins=100, label='PREDICTION')\n",
        "plt.hist(y_test.reshape(1, -1)[0], bins=100, label='GT')\n",
        "plt.legend()\n",
        "plt.grid();"
      ]
    },
    {
      "cell_type": "markdown",
      "id": "04812081",
      "metadata": {
        "id": "04812081"
      },
      "source": [
        " ## Для начала реализуем градиентный спуск для линейной модели\n"
      ]
    },
    {
      "cell_type": "code",
      "execution_count": 17,
      "id": "850769fa",
      "metadata": {
        "id": "850769fa"
      },
      "outputs": [],
      "source": [
        "X_train\n",
        "shape = X_train.shape\n",
        "W = np.ones(shape = shape[1])"
      ]
    },
    {
      "cell_type": "code",
      "execution_count": 18,
      "id": "97057d5e",
      "metadata": {
        "colab": {
          "base_uri": "https://localhost:8080/"
        },
        "id": "97057d5e",
        "outputId": "20c14190-244a-42ab-9c8c-4602cfd42786"
      },
      "outputs": [
        {
          "data": {
            "text/plain": [
              "755.16"
            ]
          },
          "execution_count": 18,
          "metadata": {},
          "output_type": "execute_result"
        }
      ],
      "source": [
        "batch_size = 50\n",
        "X_train.shape[0]/batch_size"
      ]
    },
    {
      "cell_type": "code",
      "execution_count": 19,
      "id": "03f7c922",
      "metadata": {
        "colab": {
          "base_uri": "https://localhost:8080/"
        },
        "id": "03f7c922",
        "outputId": "3074706a-3bf2-42f2-d2ea-7bf5d05c49d8"
      },
      "outputs": [
        {
          "data": {
            "text/plain": [
              "(37758, 1)"
            ]
          },
          "execution_count": 19,
          "metadata": {},
          "output_type": "execute_result"
        }
      ],
      "source": [
        "y_train.shape"
      ]
    },
    {
      "cell_type": "code",
      "execution_count": 20,
      "id": "31f7a998",
      "metadata": {
        "id": "31f7a998"
      },
      "outputs": [],
      "source": [
        "class own_linear_regression:\n",
        "    def __init__(self) -> None:\n",
        "        self.max_iter = 20\n",
        "        self.batch_size = 50\n",
        "        self.alpha = 0.2\n",
        "        self.W = None\n",
        "\n",
        "    def train(self, X, y):\n",
        "        W = np.ones(shape = X_train.shape[1]+1)\n",
        "        X = np.hstack((np.ones(shape=(X_train.shape[0],1)),X))\n",
        "        X_split = np.array_split(X,X.shape[0]/self.batch_size)\n",
        "        y_split = np.array_split(y,X.shape[0]/self.batch_size)\n",
        "        for batch,ans in zip(X_split,y_split):\n",
        "            a = batch.dot(W)\n",
        "            err =a.reshape(-1, 1) - ans\n",
        "            grad = 2*batch.T.dot(err)/self.batch_size\n",
        "            grad = grad.flatten()\n",
        "            W -= self.alpha * grad\n",
        "        self.W = W\n",
        "\n",
        "    def predict(self, X):\n",
        "        X = np.hstack((np.ones(shape=(X.shape[0], 1)), X))\n",
        "        return X.dot(self.W)\n"
      ]
    },
    {
      "cell_type": "code",
      "execution_count": 21,
      "id": "8bad04b4",
      "metadata": {
        "id": "8bad04b4"
      },
      "outputs": [],
      "source": [
        "reg = own_linear_regression()\n",
        "reg.train(X_train,y_train)"
      ]
    },
    {
      "cell_type": "code",
      "execution_count": 22,
      "id": "638ddd9b",
      "metadata": {
        "id": "638ddd9b"
      },
      "outputs": [],
      "source": [
        "y_pred_own = reg.predict(X_test)"
      ]
    },
    {
      "cell_type": "code",
      "execution_count": 23,
      "id": "626e05d0",
      "metadata": {
        "id": "626e05d0"
      },
      "outputs": [],
      "source": [
        "own_mse = mean_squared_error(y_pred_own, y_test)\n",
        "own_score = r2_score(y_pred_own,y_test)\n"
      ]
    },
    {
      "cell_type": "code",
      "execution_count": 24,
      "id": "1ef9a1ab",
      "metadata": {
        "colab": {
          "base_uri": "https://localhost:8080/",
          "height": 452
        },
        "id": "1ef9a1ab",
        "outputId": "c37ee648-bb61-44b5-ed85-f824f4b4d305"
      },
      "outputs": [
        {
          "data": {
            "image/png": "[encoded data removed]",
            "text/plain": [
              "<Figure size 640x480 with 1 Axes>"
            ]
          },
          "metadata": {},
          "output_type": "display_data"
        }
      ],
      "source": [
        "plt.title(f' Own model R2: {str(own_score)[:5]} MSE: {str(round(own_mse,4))}')\n",
        "plt.hist(y_pred_own.reshape(1, -1)[0], bins=100, label='PREDICTION')\n",
        "plt.hist(y_test.reshape(1, -1)[0], bins=100, label='GT')\n",
        "plt.legend()\n",
        "plt.grid()"
      ]
    },
    {
      "cell_type": "markdown",
      "id": "7886f8b7-ba2e-4fde-8b91-f815ea961fe5",
      "metadata": {
        "id": "7886f8b7-ba2e-4fde-8b91-f815ea961fe5"
      },
      "source": [
        "# Создаём модель MLP для задачи регрессии"
      ]
    },
    {
      "cell_type": "code",
      "execution_count": 25,
      "id": "a269b2fd",
      "metadata": {
        "id": "a269b2fd"
      },
      "outputs": [],
      "source": [
        "X = diamonds_df[features].copy().values\n",
        "y = diamonds_df[target].values"
      ]
    },
    {
      "cell_type": "code",
      "execution_count": 26,
      "id": "da03adc6",
      "metadata": {
        "id": "da03adc6"
      },
      "outputs": [],
      "source": [
        "from sklearn.preprocessing import StandardScaler"
      ]
    },
    {
      "cell_type": "code",
      "execution_count": 27,
      "id": "ca2c5c45",
      "metadata": {
        "id": "ca2c5c45"
      },
      "outputs": [],
      "source": [
        "stdsc =StandardScaler()\n",
        "X_train_s = stdsc.fit_transform(X_train)\n",
        "X_test_s = stdsc.fit_transform(X_test)"
      ]
    },
    {
      "cell_type": "markdown",
      "id": "256a7036",
      "metadata": {
        "id": "256a7036"
      },
      "source": [
        "## Попробуем создать двухслойную нейронную сеть"
      ]
    },
    {
      "cell_type": "code",
      "execution_count": 28,
      "id": "51b7ef93-763a-4617-98e4-c2c98e2a12a5",
      "metadata": {
        "id": "51b7ef93-763a-4617-98e4-c2c98e2a12a5"
      },
      "outputs": [],
      "source": [
        "class MLPRegressor:\n",
        "    def __init__(\n",
        "        self,\n",
        "        hidden_layer_sizes=(1500,1500),\n",
        "        learning_rate=0.001,\n",
        "        batch_size=150 ,\n",
        "        epochs = 10 # количество эпох\n",
        "\n",
        "    ):\n",
        "        self.hidden_layer_sizes = hidden_layer_sizes\n",
        "        self.learning_rate = learning_rate\n",
        "        self.epochs = epochs  # количество эпох\n",
        "        self.batch_size = batch_size\n",
        "        self.learning_rate = learning_rate\n",
        "        self.W = None\n",
        "\n",
        "    def sigmoid(self, x):\n",
        "        # Ограничиваем x\n",
        "        x = np.clip(x, -500, 500)  # Значения больше 500 будут заменены на 500\n",
        "        return 1 / (1 + np.exp(-x))\n",
        "    def sigmoid3(self, x):\n",
        "        return 1 / (1 + np.exp(-x))\n",
        "\n",
        "    def sigmoid2(self, x):\n",
        "        return np.where(x >= 0,\n",
        "                        1 / (1 + np.exp(-x)),\n",
        "                        np.exp(x) / (1 + np.exp(x)))\n",
        "\n",
        "    def initialize_weights(self,shape):\n",
        "        return np.random.randn(*shape) * np.sqrt(1.0 / shape[0])\n",
        "\n",
        "    def train(self, X, y):\n",
        "        # введем обозначения для размерностей\n",
        "        N = X.shape[1]+1 #\n",
        "        k =self.hidden_layer_sizes[0]# число нейронов в первом слое\n",
        "        k1  =self.hidden_layer_sizes[1] # число нейронов во втором слое\n",
        "        W1 = self.initialize_weights((N,k))\n",
        "        W2 = self.initialize_weights((k,k1))\n",
        "        W3 = self.initialize_weights((k1,1))\n",
        "        X = np.hstack((np.ones(shape=(X.shape[0],1)),X))\n",
        "\n",
        "\n",
        "        for _ in range(self.epochs):\n",
        "            indices = np.random.permutation(X.shape[0])\n",
        "            X_shuffled = X[indices]\n",
        "            y_shuffled = y[indices]\n",
        "            X_split = np.array_split(X_shuffled,X_shuffled.shape[0]/self.batch_size)\n",
        "            y_split = np.array_split(y_shuffled,X.shape[0]/self.batch_size)\n",
        "            for batch,ans in zip(X_split,y_split):\n",
        "                X1 = batch.dot(W1) # должны получить матрицу  batch_size x k\n",
        "                Z1 = np.apply_along_axis(self.sigmoid, axis=0, arr=X1)# должны получить матрицу  batch_size x k\n",
        "                X2 = Z1.dot(W2)# должны получить матрицу  batch_size x k1\n",
        "                Z2 = np.apply_along_axis(self.sigmoid, axis=0, arr=X2) # X2\n",
        "                X3 = Z2.dot(W3)  # должны получить матрицу  batch_size x 1\n",
        "                err = X3- ans\n",
        "\n",
        "                g3_W3 = 2*Z2.T.dot(err)/self.batch_size # должны получить матрицу   k1 x 1\n",
        "                g3_Z2 =  (2/self.batch_size)*err.dot(W3.T)#должны получить матрицу  batch_size x k1\n",
        "                gZ2_X2 = Z2*(1 - Z2)# поэлементно  batch_size x k1\n",
        "                g2_W2 = Z1.T.dot(gZ2_X2 * g3_Z2) # поэлементно  k x k1\n",
        "                g2_Z1 = (gZ2_X2 * g3_Z2).dot(W2.T)# поэлементно  batch_size x k\n",
        "                gZ1_X1 = Z1*(1 - Z1)# поэлементно  batch_size x k\n",
        "                g1W1 = batch.T.dot(gZ1_X1 * g2_Z1) # поэлементно  batch_size x k\n",
        "                W3-= self.learning_rate*(g3_W3 + 0.2*W3)\n",
        "                W2-= self.learning_rate*(g2_W2 + 0.2*W2)\n",
        "                W1-=self.learning_rate* (g1W1 + 0.3*W1)\n",
        "            print(f\"Epoch: {_}, Loss: {err.T.dot(err)/batch_size}\")\n",
        "        self.W = (W1,W2,W3)\n",
        "\n",
        "\n",
        "    def predict(self, X):\n",
        "        X = np.hstack((np.ones(shape=(X.shape[0], 1)), X))\n",
        "        X1 = X.dot(self.W[0]) # должны получить матрицу  batch_size x k\n",
        "        Z1 = np.apply_along_axis(self.sigmoid, axis=0, arr=X1)# должны получить матрицу  batch_size x k\n",
        "        X2 = Z1.dot(self.W[1])# должны получить матрицу  batch_size x k1\n",
        "        Z2 = np.apply_along_axis(self.sigmoid, axis=0, arr=X2) # X2\n",
        "        X3 = Z2.dot(self.W[2])  # должны получить матрицу  batch_size x 1\n",
        "        return X3\n"
      ]
    },
    {
      "cell_type": "code",
      "execution_count": 40,
      "id": "2d0295ab",
      "metadata": {
        "colab": {
          "base_uri": "https://localhost:8080/"
        },
        "id": "2d0295ab",
        "outputId": "9e1b713d-042a-4bb4-ab6f-5f8c853d0f46"
      },
      "outputs": [
        {
          "name": "stdout",
          "output_type": "stream",
          "text": [
            "Epoch: 0, Loss: [[2069554.09177472]]\n",
            "Epoch: 1, Loss: [[4718557.2395654]]\n",
            "Epoch: 2, Loss: [[3889919.82310323]]\n",
            "Epoch: 3, Loss: [[3511468.27990624]]\n",
            "Epoch: 4, Loss: [[3521866.27773137]]\n",
            "Epoch: 5, Loss: [[3345347.63287695]]\n",
            "Epoch: 6, Loss: [[4045710.20450832]]\n",
            "Epoch: 7, Loss: [[15924805.56790737]]\n",
            "Epoch: 8, Loss: [[6149280.06019016]]\n",
            "Epoch: 9, Loss: [[7668038.24514383]]\n"
          ]
        }
      ],
      "source": [
        "reg = MLPRegressor()\n",
        "reg. train(X_train_s,y_train)"
      ]
    },
    {
      "cell_type": "markdown",
      "id": "30d7840d",
      "metadata": {
        "id": "30d7840d"
      },
      "source": [
        "4049906  4665935  2854133   12451308"
      ]
    },
    {
      "cell_type": "code",
      "execution_count": 30,
      "id": "26ef7fce",
      "metadata": {
        "colab": {
          "background_save": true
        },
        "id": "26ef7fce"
      },
      "outputs": [],
      "source": [
        "y_nn = reg.predict(X_test_s)\n",
        "mse_nn = mean_squared_error(y_nn, y_test)\n",
        "r2_nn = r2_score(y_nn,y_test)"
      ]
    },
    {
      "cell_type": "code",
      "execution_count": 32,
      "id": "db7856fe",
      "metadata": {
        "id": "db7856fe"
      },
      "outputs": [
        {
          "data": {
            "text/plain": [
              "18448.226453475265"
            ]
          },
          "execution_count": 32,
          "metadata": {},
          "output_type": "execute_result"
        }
      ],
      "source": [
        "y_nn.max()"
      ]
    },
    {
      "cell_type": "markdown",
      "id": "DW7gbVXSK_Cg",
      "metadata": {
        "id": "DW7gbVXSK_Cg"
      },
      "source": [
        "## Проверяем качество на тестовой выборке"
      ]
    },
    {
      "cell_type": "code",
      "execution_count": 41,
      "id": "ac64090b",
      "metadata": {
        "colab": {
          "base_uri": "https://localhost:8080/",
          "height": 231
        },
        "id": "ac64090b",
        "outputId": "68656d94-6e27-4135-e29c-e8e15159df67"
      },
      "outputs": [
        {
          "data": {
            "image/png": "[encoded data removed]",
            "text/plain": [
              "<Figure size 640x480 with 1 Axes>"
            ]
          },
          "metadata": {},
          "output_type": "display_data"
        }
      ],
      "source": [
        "plt.title(f' Own model R2: {str(r2_nn)[:5]} MSE: {str(round(mse_nn,4))}')\n",
        "plt.hist(y_nn.reshape(1, -1)[0], bins=100, label='PREDICTION')\n",
        "plt.hist(y_test.reshape(1, -1)[0], bins=100, label='GT')\n",
        "plt.legend()\n",
        "plt.grid()"
      ]
    },
    {
      "cell_type": "markdown",
      "id": "a0281afe",
      "metadata": {
        "id": "a0281afe"
      },
      "source": [
        "## Пробуем создать многослойную сеть"
      ]
    },
    {
      "cell_type": "code",
      "execution_count": 45,
      "id": "29be5dfd",
      "metadata": {
        "id": "29be5dfd"
      },
      "outputs": [],
      "source": [
        "class MLPRegressor_n:\n",
        "    def __init__(\n",
        "        self,\n",
        "        n_layers = 2,\n",
        "        hidden_layer_sizes=(1000,1000),\n",
        "        learning_rate=0.0001,\n",
        "        batch_size=100,\n",
        "        epochs = 10# количество эпох\n",
        "\n",
        "    ):\n",
        "        self.n_layers = n_layers\n",
        "        self.hidden_layer_sizes = 100 * np.ones(n_layers,dtype=int)\n",
        "        for i in range(len(hidden_layer_sizes)):\n",
        "            self.hidden_layer_sizes[i] = hidden_layer_sizes[i]\n",
        "        self.learning_rate = learning_rate\n",
        "        self.epochs = epochs  # количество эпох\n",
        "        self.batch_size = batch_size\n",
        "        self.W = None\n",
        "\n",
        "    def sigmoid(self, x):\n",
        "        # Ограничиваем x\n",
        "        x = np.clip(x, -500, 500)\n",
        "        return 1 / (1 + np.exp(-x))\n",
        "\n",
        "    def sigmoid3(self, x):\n",
        "        return 1 / (1 + np.exp(-x))\n",
        "\n",
        "    def sigmoid2(self, x):\n",
        "        return np.where(x >= 0,\n",
        "                        1 / (1 + np.exp(-x)),\n",
        "                        np.exp(x) / (1 + np.exp(x)))\n",
        "\n",
        "    def initialize_weights(self,shape):\n",
        "        return np.random.randn(*shape) * np.sqrt(1.0 / shape[0])\n",
        "\n",
        "    def train(self, X, y):\n",
        "        N = X.shape[1]+1 #\n",
        "        W = []\n",
        "        W.append(self.initialize_weights((N,self.hidden_layer_sizes[0])))\n",
        "        for i in range(1,len(self.hidden_layer_sizes)):\n",
        "            W.append(self.initialize_weights((self.hidden_layer_sizes[i-1],self.hidden_layer_sizes[i])))\n",
        "        W.append(self.initialize_weights((self.hidden_layer_sizes[-1],1)))# оставляем списком, тк слои могут иметь разную размерность\n",
        "        X = np.hstack((np.ones(shape=(X.shape[0],1)),X))\n",
        "\n",
        "\n",
        "        for _ in range(self.epochs):\n",
        "            indices = np.random.permutation(X.shape[0])\n",
        "            X_shuffled = X[indices]\n",
        "            y_shuffled = y[indices]\n",
        "            X_split = np.array_split(X_shuffled,X_shuffled.shape[0]/self.batch_size)\n",
        "            y_split = np.array_split(y_shuffled,X.shape[0]/self.batch_size)\n",
        "\n",
        "\n",
        "            for batch,ans in zip(X_split,y_split):\n",
        "                # Прямой проход\n",
        "                X_i = []\n",
        "                Z_i = []\n",
        "                X_i.append(batch.dot(np.array(W[0])))\n",
        "                Z_i.append(np.apply_along_axis(self.sigmoid, axis=0, arr=X_i[0]))\n",
        "                for w in W[1:-1]:\n",
        "                    X_i.append(Z_i[-1].dot(w))\n",
        "                    Z_i.append(np.apply_along_axis(self.sigmoid, axis=0, arr=X_i[-1]))\n",
        "                X_i.append(Z_i[-1].dot(W[-1]))\n",
        "                err = X_i[-1]- ans\n",
        "\n",
        "\n",
        "                # Обратный проход\n",
        "                g_w =[]\n",
        "                g_z = []\n",
        "                g_x = []\n",
        "\n",
        "\n",
        "\n",
        "                g_w.append(2*Z_i[-1].T.dot(err)/self.batch_size)\n",
        "                W[-1]-= self.learning_rate*(g_w[-1] + 0.1*W[-1])\n",
        "                g_z.append((2/self.batch_size)*err.dot(W[-1].T))\n",
        "\n",
        "                for i in range(len(W)-2,0,-1):\n",
        "                    g_w.append(Z_i[i-1].T.dot(Z_i[i]*(1 - Z_i[i]) * g_z[-1]))\n",
        "                    W[i]-= self.learning_rate*(g_w[-1] + 0.1*W[i])\n",
        "                    g_z.append((Z_i[i]*(1 - Z_i[i]) * g_z[-1]).dot(W[i].T))\n",
        "                g_w.append(batch.T.dot(Z_i[0]*(1 - Z_i[0]) * g_z[-1]))\n",
        "                W[0] -= self.learning_rate*(g_w[-1] + 0.1*W[0])\n",
        "            print(f\"Epoch: {_}, Loss: {err.T.dot(err)/batch_size}\")\n",
        "        self.W = W\n",
        "\n",
        "\n",
        "    def predict(self, X):\n",
        "        X = np.hstack((np.ones(shape=(X.shape[0], 1)), X))\n",
        "        X1=None\n",
        "        Z1 = None\n",
        "        X1 = X.dot(self.W[0])\n",
        "        for w in self.W[1:]:\n",
        "            Z1 = np.apply_along_axis(self.sigmoid, axis=0, arr=X1)# должны получить матрицу  batch_size x k\n",
        "            X1 = Z1.dot(w)\n",
        "        return X1"
      ]
    },
    {
      "cell_type": "code",
      "execution_count": 46,
      "id": "77238f0c",
      "metadata": {
        "id": "77238f0c"
      },
      "outputs": [],
      "source": [
        "reg = MLPRegressor_n()"
      ]
    },
    {
      "cell_type": "code",
      "execution_count": 47,
      "id": "d3a8faf5",
      "metadata": {
        "colab": {
          "base_uri": "https://localhost:8080/"
        },
        "id": "d3a8faf5",
        "outputId": "64cc237b-210b-49d7-8a57-1a4e27857a62"
      },
      "outputs": [
        {
          "name": "stdout",
          "output_type": "stream",
          "text": [
            "Epoch: 0, Loss: [[1606306.56294606]]\n",
            "Epoch: 1, Loss: [[1816297.0468782]]\n",
            "Epoch: 2, Loss: [[1773483.75600184]]\n",
            "Epoch: 3, Loss: [[326168.41197381]]\n",
            "Epoch: 4, Loss: [[1321156.36178705]]\n",
            "Epoch: 5, Loss: [[1081547.4781876]]\n",
            "Epoch: 6, Loss: [[712752.44422268]]\n",
            "Epoch: 7, Loss: [[979116.69471184]]\n",
            "Epoch: 8, Loss: [[810929.26981383]]\n",
            "Epoch: 9, Loss: [[570314.12001667]]\n"
          ]
        }
      ],
      "source": [
        "reg.train(X_train_s,y_train)"
      ]
    },
    {
      "cell_type": "code",
      "execution_count": 48,
      "id": "cb91ded7",
      "metadata": {
        "id": "cb91ded7"
      },
      "outputs": [],
      "source": [
        "y_nn = reg.predict(X_test_s)\n",
        "mse_nn = mean_squared_error(y_nn, y_test)\n",
        "r2_nn = r2_score(y_nn,y_test)"
      ]
    },
    {
      "cell_type": "code",
      "execution_count": 38,
      "id": "b1de3114",
      "metadata": {
        "id": "b1de3114"
      },
      "outputs": [
        {
          "data": {
            "text/plain": [
              "15519.982644721327"
            ]
          },
          "execution_count": 38,
          "metadata": {},
          "output_type": "execute_result"
        }
      ],
      "source": [
        "y_nn.max()"
      ]
    },
    {
      "cell_type": "markdown",
      "id": "LPF90vaLKvD5",
      "metadata": {
        "id": "LPF90vaLKvD5"
      },
      "source": [
        "## Проверяем качество на тестовой выборке"
      ]
    },
    {
      "cell_type": "code",
      "execution_count": 49,
      "id": "2848a1fe",
      "metadata": {
        "colab": {
          "base_uri": "https://localhost:8080/",
          "height": 472
        },
        "id": "2848a1fe",
        "outputId": "b7a30e9c-4d01-40b2-b95e-7f70898098d2"
      },
      "outputs": [
        {
          "data": {
            "image/png": "[encoded data removed]",
            "text/plain": [
              "<Figure size 640x480 with 1 Axes>"
            ]
          },
          "metadata": {},
          "output_type": "display_data"
        }
      ],
      "source": [
        "plt.title(f' Own model R2: {str(r2_nn)[:5]} MSE: {str(round(mse_nn,4))}')\n",
        "plt.hist(y_nn.reshape(1, -1)[0], bins=100, label='PREDICTION')\n",
        "plt.hist(y_test.reshape(1, -1)[0], bins=100, label='GT')\n",
        "plt.legend()\n",
        "plt.grid()"
      ]
    }
  ],
  "metadata": {
    "colab": {
      "provenance": []
    },
    "kernelspec": {
      "display_name": "Python 3",
      "language": "python",
      "name": "python3"
    },
    "language_info": {
      "codemirror_mode": {
        "name": "ipython",
        "version": 3
      },
      "file_extension": ".py",
      "mimetype": "text/x-python",
      "name": "python",
      "nbconvert_exporter": "python",
      "pygments_lexer": "ipython3",
      "version": "3.11.7"
    }
  },
  "nbformat": 4,
  "nbformat_minor": 5
}
